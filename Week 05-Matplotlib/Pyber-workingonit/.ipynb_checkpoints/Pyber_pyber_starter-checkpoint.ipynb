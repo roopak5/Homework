{
 "cells": [
  {
   "cell_type": "code",
   "execution_count": 1,
   "metadata": {},
   "outputs": [
    {
     "data": {
      "text/html": [
       "<div>\n",
       "<style scoped>\n",
       "    .dataframe tbody tr th:only-of-type {\n",
       "        vertical-align: middle;\n",
       "    }\n",
       "\n",
       "    .dataframe tbody tr th {\n",
       "        vertical-align: top;\n",
       "    }\n",
       "\n",
       "    .dataframe thead th {\n",
       "        text-align: right;\n",
       "    }\n",
       "</style>\n",
       "<table border=\"1\" class=\"dataframe\">\n",
       "  <thead>\n",
       "    <tr style=\"text-align: right;\">\n",
       "      <th></th>\n",
       "      <th>city</th>\n",
       "      <th>date</th>\n",
       "      <th>fare</th>\n",
       "      <th>ride_id</th>\n",
       "      <th>driver_count</th>\n",
       "      <th>type</th>\n",
       "    </tr>\n",
       "  </thead>\n",
       "  <tbody>\n",
       "    <tr>\n",
       "      <th>0</th>\n",
       "      <td>Lake Jonathanshire</td>\n",
       "      <td>2018-01-14 10:14:22</td>\n",
       "      <td>13.83</td>\n",
       "      <td>5739410935873</td>\n",
       "      <td>5</td>\n",
       "      <td>Urban</td>\n",
       "    </tr>\n",
       "    <tr>\n",
       "      <th>1</th>\n",
       "      <td>South Michelleport</td>\n",
       "      <td>2018-03-04 18:24:09</td>\n",
       "      <td>30.24</td>\n",
       "      <td>2343912425577</td>\n",
       "      <td>72</td>\n",
       "      <td>Urban</td>\n",
       "    </tr>\n",
       "    <tr>\n",
       "      <th>2</th>\n",
       "      <td>Port Samanthamouth</td>\n",
       "      <td>2018-02-24 04:29:00</td>\n",
       "      <td>33.44</td>\n",
       "      <td>2005065760003</td>\n",
       "      <td>57</td>\n",
       "      <td>Urban</td>\n",
       "    </tr>\n",
       "    <tr>\n",
       "      <th>3</th>\n",
       "      <td>Rodneyfort</td>\n",
       "      <td>2018-02-10 23:22:03</td>\n",
       "      <td>23.44</td>\n",
       "      <td>5149245426178</td>\n",
       "      <td>34</td>\n",
       "      <td>Urban</td>\n",
       "    </tr>\n",
       "    <tr>\n",
       "      <th>4</th>\n",
       "      <td>South Jack</td>\n",
       "      <td>2018-03-06 04:28:35</td>\n",
       "      <td>34.58</td>\n",
       "      <td>3908451377344</td>\n",
       "      <td>46</td>\n",
       "      <td>Urban</td>\n",
       "    </tr>\n",
       "  </tbody>\n",
       "</table>\n",
       "</div>"
      ],
      "text/plain": [
       "                 city                 date   fare        ride_id  \\\n",
       "0  Lake Jonathanshire  2018-01-14 10:14:22  13.83  5739410935873   \n",
       "1  South Michelleport  2018-03-04 18:24:09  30.24  2343912425577   \n",
       "2  Port Samanthamouth  2018-02-24 04:29:00  33.44  2005065760003   \n",
       "3          Rodneyfort  2018-02-10 23:22:03  23.44  5149245426178   \n",
       "4          South Jack  2018-03-06 04:28:35  34.58  3908451377344   \n",
       "\n",
       "   driver_count   type  \n",
       "0             5  Urban  \n",
       "1            72  Urban  \n",
       "2            57  Urban  \n",
       "3            34  Urban  \n",
       "4            46  Urban  "
      ]
     },
     "execution_count": 1,
     "metadata": {},
     "output_type": "execute_result"
    }
   ],
   "source": [
    "%matplotlib inline\n",
    "# Dependencies and Setup\n",
    "import matplotlib.pyplot as plt\n",
    "import pandas as pd\n",
    "import numpy as np\n",
    "\n",
    "# File to Load (Remember to change these)\n",
    "city_data_to_load = \"city_data.csv\"\n",
    "ride_data_to_load = \"ride_data.csv\"\n",
    "\n",
    "# Read the City and Ride Data\n",
    "city = pd.read_csv(city_data_to_load)\n",
    "ride = pd.read_csv(ride_data_to_load)\n",
    "# Combine the data into a single dataset\n",
    "\n",
    "df = pd.merge(ride, city, on =['city', 'city'])\n",
    "\n",
    "df = df.drop_duplicates(\"city\")\n",
    "\n",
    "df.reset_index(inplace=True)\n",
    "del df[\"index\"]\n",
    "# Display the data table for preview\n",
    "df.head()"
   ]
  },
  {
   "cell_type": "code",
   "execution_count": 2,
   "metadata": {},
   "outputs": [],
   "source": [
    "avg_city=df.groupby([\"city\"]).mean()[\"fare\"]"
   ]
  },
  {
   "cell_type": "code",
   "execution_count": 3,
   "metadata": {},
   "outputs": [],
   "source": [
    "total_count=df.groupby([\"city\"]).count()[\"fare\"]"
   ]
  },
  {
   "cell_type": "code",
   "execution_count": 4,
   "metadata": {},
   "outputs": [],
   "source": [
    "driver_city=city.groupby([\"city\"]).mean()[\"driver_count\"]"
   ]
  },
  {
   "cell_type": "code",
   "execution_count": 5,
   "metadata": {},
   "outputs": [],
   "source": [
    "chart_data={\"Average Fare Per City ($)\": avg_city,\n",
    "            \"Total Rides (Per City)\": total_count,\n",
    "            \"Total Drivers (Per City)\": driver_city\n",
    "            }\n",
    "chart_df=pd.DataFrame(chart_data)"
   ]
  },
  {
   "cell_type": "code",
   "execution_count": 6,
   "metadata": {},
   "outputs": [],
   "source": [
    "df_final = pd.merge(city, chart_df, how=\"left\", on=[\"city\", \"city\"])\n",
    "\n",
    "\n",
    "urban = df_final.loc[df_final[\"type\"] == \"Urban\"]\n",
    "suburban = df_final.loc[df_final[\"type\"] == \"Suburban\"]\n",
    "rural = df_final.loc[df_final[\"type\"] == \"Rural\"]"
   ]
  },
  {
   "cell_type": "code",
   "execution_count": null,
   "metadata": {},
   "outputs": [],
   "source": [
    "x_axis1 = final_chart_data1[\"Total Rides (Per City)\"]\n",
    "y_axis1 = final_chart_data1[\"Average Fare Per City ($)\"]\n",
    "size1 = final_chart_data1[\"Total Drivers (Per City)\"]\n",
    "labels1 = \"Urban\"\n",
    "\n",
    "\n",
    "x_axis2 = final_chart_data2[\"Total Rides (Per City)\"]\n",
    "y_axis2 = final_chart_data2[\"Average Fare Per City ($)\"]\n",
    "size2 = final_chart_data2[\"Total Drivers (Per City)\"]\n",
    "labels2 = \"Rural\"\n",
    "\n",
    "\n",
    "x_axis3 = final_chart_data3[\"Total Rides (Per City)\"]\n",
    "y_axis3 = final_chart_data3[\"Average Fare Per City ($)\"]\n",
    "size3 = final_chart_data3[\"Total Drivers (Per City)\"]\n",
    "labels3 = \"Suburban\""
   ]
  },
  {
   "cell_type": "code",
   "execution_count": null,
   "metadata": {},
   "outputs": [],
   "source": []
  },
  {
   "cell_type": "markdown",
   "metadata": {},
   "source": [
    "## Bubble Plot of Ride Sharing Data"
   ]
  },
  {
   "cell_type": "code",
   "execution_count": 7,
   "metadata": {},
   "outputs": [
    {
     "ename": "NameError",
     "evalue": "name 'driver_urban' is not defined",
     "output_type": "error",
     "traceback": [
      "\u001b[1;31m---------------------------------------------------------------------------\u001b[0m",
      "\u001b[1;31mNameError\u001b[0m                                 Traceback (most recent call last)",
      "\u001b[1;32m<ipython-input-7-72fc7c16cdb8>\u001b[0m in \u001b[0;36m<module>\u001b[1;34m\u001b[0m\n\u001b[0;32m     21\u001b[0m \u001b[1;33m\u001b[0m\u001b[0m\n\u001b[0;32m     22\u001b[0m \u001b[1;31m# # Build the scatter plots for each city types\u001b[0m\u001b[1;33m\u001b[0m\u001b[1;33m\u001b[0m\u001b[1;33m\u001b[0m\u001b[0m\n\u001b[1;32m---> 23\u001b[1;33m \u001b[0mlegend_1\u001b[0m \u001b[1;33m=\u001b[0m \u001b[0mplt\u001b[0m\u001b[1;33m.\u001b[0m\u001b[0mscatter\u001b[0m\u001b[1;33m(\u001b[0m\u001b[0murban\u001b[0m\u001b[1;33m,\u001b[0m \u001b[0msuburban\u001b[0m\u001b[1;33m,\u001b[0m \u001b[0mfacecolors\u001b[0m\u001b[1;33m=\u001b[0m\u001b[1;34m\"darkorange\"\u001b[0m\u001b[1;33m,\u001b[0m \u001b[0medgecolor\u001b[0m\u001b[1;33m=\u001b[0m\u001b[1;34m\"black\"\u001b[0m\u001b[1;33m,\u001b[0m \u001b[0ms\u001b[0m\u001b[1;33m=\u001b[0m\u001b[0mdriver_urban\u001b[0m\u001b[1;33m*\u001b[0m\u001b[1;36m6\u001b[0m\u001b[1;33m)\u001b[0m\u001b[1;33m\u001b[0m\u001b[1;33m\u001b[0m\u001b[0m\n\u001b[0m\u001b[0;32m     24\u001b[0m \u001b[0mlegend_2\u001b[0m \u001b[1;33m=\u001b[0m \u001b[0mplt\u001b[0m\u001b[1;33m.\u001b[0m\u001b[0mscatter\u001b[0m\u001b[1;33m(\u001b[0m\u001b[0msuburban\u001b[0m\u001b[1;33m,\u001b[0m\u001b[0murban\u001b[0m\u001b[1;33m,\u001b[0m \u001b[0mfacecolors\u001b[0m\u001b[1;33m=\u001b[0m\u001b[1;34m\"blue\"\u001b[0m\u001b[1;33m,\u001b[0m \u001b[0medgecolors\u001b[0m\u001b[1;33m=\u001b[0m\u001b[1;34m\"black\"\u001b[0m\u001b[1;33m,\u001b[0m \u001b[0ms\u001b[0m\u001b[1;33m=\u001b[0m\u001b[0mdriver_suburban\u001b[0m\u001b[1;33m*\u001b[0m\u001b[1;36m6\u001b[0m\u001b[1;33m)\u001b[0m\u001b[1;33m\u001b[0m\u001b[1;33m\u001b[0m\u001b[0m\n\u001b[0;32m     25\u001b[0m \u001b[0mlegend_3\u001b[0m \u001b[1;33m=\u001b[0m \u001b[0mplt\u001b[0m\u001b[1;33m.\u001b[0m\u001b[0mscatter\u001b[0m\u001b[1;33m(\u001b[0m\u001b[0mridecount_rural\u001b[0m\u001b[1;33m,\u001b[0m \u001b[0mfare_rural\u001b[0m\u001b[1;33m,\u001b[0m \u001b[0mfacecolors\u001b[0m\u001b[1;33m=\u001b[0m\u001b[1;34m\"yellow\"\u001b[0m\u001b[1;33m,\u001b[0m\u001b[0medgecolors\u001b[0m\u001b[1;33m=\u001b[0m\u001b[1;34m\"black\"\u001b[0m\u001b[1;33m,\u001b[0m \u001b[0ms\u001b[0m\u001b[1;33m=\u001b[0m\u001b[0mdriver_rural\u001b[0m\u001b[1;33m*\u001b[0m\u001b[1;36m6\u001b[0m\u001b[1;33m)\u001b[0m\u001b[1;33m\u001b[0m\u001b[1;33m\u001b[0m\u001b[0m\n",
      "\u001b[1;31mNameError\u001b[0m: name 'driver_urban' is not defined"
     ]
    }
   ],
   "source": [
    "# Obtain the x and y coordinates for each of the three city types\n",
    "\n",
    "\n",
    "\n",
    "#city_urban = df_final[\"Total Rides (Per city)\"]\n",
    "# city_suburban = suburban.groupby(['city'])\n",
    "# city_rural = rural.groupby(['city'])\n",
    "\n",
    "# ridecount_urban = urban['city'].value_counts().sort_index()\n",
    "# ridecount_rural = rural['city'].value_counts().sort_index()\n",
    "# ridecount_suburban = suburban['city'].value_counts().sort_index()\n",
    "\n",
    "\n",
    "# driver_urban = city_urban['driver_count'].mean()\n",
    "# driver_suburban = city_suburban['driver_count'].mean()\n",
    "# driver_rural = city_rural['driver_count'].mean()\n",
    "\n",
    "# fare_urban = city_urban['fare'].sum() / ridecount_urban\n",
    "# fare_suburban = city_suburban['fare'].sum() / ridecount_suburban\n",
    "# fare_rural = city_rural['fare'].sum() / ridecount_rural\n",
    "\n",
    "# # Build the scatter plots for each city types\n",
    "legend_1 = plt.scatter(urban, suburban, facecolors=\"darkorange\", edgecolor=\"black\", s=driver_urban*6)\n",
    "legend_2 = plt.scatter(suburban,urban, facecolors=\"blue\", edgecolors=\"black\", s=driver_suburban*6)\n",
    "legend_3 = plt.scatter(ridecount_rural, fare_rural, facecolors=\"yellow\",edgecolors=\"black\", s=driver_rural*6)\n",
    "# # # Incorporate the other graph properties\n",
    "# plt.title(\"Pyber Ride Sharing Data 2016\")\n",
    "# plt.xlabel(\"Total Number of Rides(Per City)\")\n",
    "plt.ylabel(\"Average Fare($)\")\n",
    "plt.grid()\n",
    "# Create a legend\n",
    "plt.legend((legend_1, legend_2, legend_3), ('Urban', 'Suburban', 'Rural'))   \n",
    "# Incorporate a text label regarding circle size\n",
    "plt.text(1,0.5, \"Note: Circle size corresponds with the city's driver count\", fontsize=15, transform=plt.gcf().transFigure)\n",
    "# Save Figure\n",
    "plt.savefig(\"PyberGraph.png\")"
   ]
  },
  {
   "cell_type": "code",
   "execution_count": null,
   "metadata": {},
   "outputs": [],
   "source": [
    "# Show plot\n",
    "plt.show()"
   ]
  },
  {
   "cell_type": "markdown",
   "metadata": {},
   "source": [
    "## Total Fares by City Type"
   ]
  },
  {
   "cell_type": "code",
   "execution_count": null,
   "metadata": {},
   "outputs": [],
   "source": [
    "# Calculate Type Percents\n",
    "fare_urban = urban[\"fare\"].sum()\n",
    "fare_suburban = suburban[\"fare\"].sum()\n",
    "fare_rural = rural[\"fare\"].sum()\n",
    "\n",
    "# Build Pie Chart\n",
    "labels = [\"Urban\", \"Suburban\", \"Rural\"]\n",
    "\n",
    "sizes = [fare_urban, fare_suburban, fare_rural]\n",
    "\n",
    "colors = [\"lightcoral\", \"lightblue\", \"yellow\"]\n",
    "\n",
    "#explode = (.1,0,0)\n",
    "\n",
    "plt.pie(sizes, labels=labels, colors=colors,\n",
    "        autopct=\"%1.1f%%\", shadow=True, startangle=90)\n",
    "plt.title(\"% of Total Fares by City Type\")\n",
    "\n",
    "# Save Figure\n",
    "plt.savefig(\"Totalfare.png\")"
   ]
  },
  {
   "cell_type": "code",
   "execution_count": null,
   "metadata": {},
   "outputs": [],
   "source": [
    "# Show Figure\n",
    "plt.show()"
   ]
  },
  {
   "cell_type": "markdown",
   "metadata": {},
   "source": [
    "## Total Rides by City Type"
   ]
  },
  {
   "cell_type": "code",
   "execution_count": null,
   "metadata": {},
   "outputs": [],
   "source": [
    "# Calculate Ride Percents\n",
    "pie_rides_urban = urban['city'].count()\n",
    "pie_rides_suburban = suburban['city'].count()\n",
    "pie_rides_rural = rural['city'].count()\n",
    "\n",
    "# Build Pie Chart\n",
    "sizes_2 = [pie_rides_urban, pie_rides_suburban, pie_rides_rural]\n",
    "\n",
    "plt.pie(sizes_2, labels=labels, colors=colors,\n",
    "        autopct=\"%1.1f%%\", shadow=True, startangle=90)\n",
    "plt.title(\"% of Total Rides by City Type\")\n",
    "\n",
    "# Save Figure\n",
    "plt.savefig(\"TotalRides\")\n"
   ]
  },
  {
   "cell_type": "code",
   "execution_count": null,
   "metadata": {},
   "outputs": [],
   "source": [
    "# Show Figure\n",
    "plt.show()"
   ]
  },
  {
   "cell_type": "markdown",
   "metadata": {},
   "source": [
    "## Total Drivers by City Type"
   ]
  },
  {
   "cell_type": "code",
   "execution_count": null,
   "metadata": {},
   "outputs": [],
   "source": [
    "# Calculate Driver Percents\n",
    "pie_drivers_urban = (city_urban['driver_count'].sum() / city_urban['city'].count()).sum()\n",
    "pie_drivers_rural = (city_rural['driver_count'].sum() / city_rural['city'].count()).sum()\n",
    "pie_drivers_suburban = (city_suburban['driver_count'].sum() / city_suburban['city'].count()).sum()\n",
    "\n",
    "# Build Pie Charts\n",
    "sizes_3 = [pie_drivers_urban, pie_drivers_suburban, pie_drivers_rural]\n",
    "\n",
    "plt.pie(sizes_3, labels=labels, colors=colors,\n",
    "        autopct=\"%1.1f%%\", shadow=True, startangle=90)\n",
    "plt.title(\"Number of total drivers by City Type\")\n",
    "\n",
    "# Save Figure\n",
    "plt.savefig(\"TotalDrivers\")\n",
    "plt.show()"
   ]
  },
  {
   "cell_type": "code",
   "execution_count": null,
   "metadata": {
    "scrolled": true
   },
   "outputs": [],
   "source": [
    "# Show Figure\n",
    "plt.show()"
   ]
  },
  {
   "cell_type": "code",
   "execution_count": null,
   "metadata": {},
   "outputs": [],
   "source": []
  },
  {
   "cell_type": "code",
   "execution_count": null,
   "metadata": {},
   "outputs": [],
   "source": []
  },
  {
   "cell_type": "code",
   "execution_count": null,
   "metadata": {},
   "outputs": [],
   "source": []
  }
 ],
 "metadata": {
  "anaconda-cloud": {},
  "kernelspec": {
   "display_name": "Python 3",
   "language": "python",
   "name": "python3"
  },
  "language_info": {
   "codemirror_mode": {
    "name": "ipython",
    "version": 3
   },
   "file_extension": ".py",
   "mimetype": "text/x-python",
   "name": "python",
   "nbconvert_exporter": "python",
   "pygments_lexer": "ipython3",
   "version": "3.7.1"
  }
 },
 "nbformat": 4,
 "nbformat_minor": 2
}
